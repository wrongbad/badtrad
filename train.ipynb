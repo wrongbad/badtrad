{
 "cells": [
  {
   "cell_type": "code",
   "execution_count": 1,
   "metadata": {},
   "outputs": [],
   "source": [
    "import numpy as np\n",
    "import torch\n",
    "\n",
    "# open, high, low, close, volume, vwap\n",
    "btc_2023 = np.fromfile('data/btc_2023.npy')\n",
    "btc_2024 = np.fromfile('data/btc_2024.npy')\n",
    "\n",
    "btc_2023 = torch.tensor(btc_2023.reshape(-1, 6)).T.float().cuda()\n",
    "btc_2024 = torch.tensor(btc_2024.reshape(-1, 6)).T.float().cuda()\n"
   ]
  },
  {
   "cell_type": "code",
   "execution_count": 55,
   "metadata": {},
   "outputs": [
    {
     "data": {
      "text/plain": [
       "(torch.Size([6, 497979]), torch.Size([2, 497214]))"
      ]
     },
     "execution_count": 55,
     "metadata": {},
     "output_type": "execute_result"
    }
   ],
   "source": [
    "from model import WaveNet\n",
    "\n",
    "model = WaveNet(nin=6, nout=2, chan=64, nlayer=[8,8,8]).cuda()\n",
    "\n",
    "\n",
    "with torch.no_grad():\n",
    "    y = model(btc_2023)\n",
    "\n",
    "btc_2023.shape, y.shape\n",
    "# y[:, -10:]"
   ]
  },
  {
   "cell_type": "code",
   "execution_count": 56,
   "metadata": {},
   "outputs": [],
   "source": [
    "import numba\n",
    "\n",
    "@numba.jit\n",
    "def minimize(p_buy, p_sell):\n",
    "    n = p_buy.size\n",
    "    arcs = np.zeros((n, 2, 2), dtype=np.float32)\n",
    "    arcs[:,0,1] = -p_buy\n",
    "    arcs[:,1,0] = p_sell\n",
    "    arcs[0,1,:] = -np.inf\n",
    "    arcs[-1,:,1] = -np.inf\n",
    "\n",
    "    for i in range(n-1, 0, -1):\n",
    "        max0 = max(arcs[i,0,0], arcs[i,0,1])\n",
    "        max1 = max(arcs[i,1,0], arcs[i,1,1])\n",
    "        arcs[i,0,:] -= max0\n",
    "        arcs[i,1,:] -= max1\n",
    "        arcs[i-1,:,0] += max0\n",
    "        arcs[i-1,:,1] += max1\n",
    "\n",
    "    max0 = max(arcs[0,0,0], arcs[0,0,1])\n",
    "    arcs[0,0,:] -= max0\n",
    "    arcs[0,1,:] = 0\n",
    "    arcs[-1,:,1] = 0\n",
    "    \n",
    "    return arcs, max0"
   ]
  },
  {
   "cell_type": "code",
   "execution_count": 63,
   "metadata": {},
   "outputs": [
    {
     "name": "stdout",
     "output_type": "stream",
     "text": [
      "max profit 120907.984375\n",
      "torch.Size([1, 2, 2, 497979])\n",
      "tensor([[[  0.0000, -25.1562],\n",
      "         [  0.0000,   0.0000]]], device='cuda:0')\n"
     ]
    },
    {
     "data": {
      "text/plain": [
       "tensor(2.9611e+08, device='cuda:0')"
      ]
     },
     "execution_count": 63,
     "metadata": {},
     "output_type": "execute_result"
    }
   ],
   "source": [
    "fee = 0.01\n",
    "p = btc_2023[None, ...]\n",
    "p_sell = p[0, 2, :].cpu().numpy() * (1 - fee)\n",
    "p_buy = p[0, 1, :].cpu().numpy() * (1 + fee)\n",
    "\n",
    "arcs, profit = minimize(p_buy, p_sell)\n",
    "print('max profit', profit)\n",
    "\n",
    "lossw = arcs.transpose(1,2,0)[None,...]\n",
    "lossw = torch.tensor(lossw).cuda()\n",
    "print(lossw.shape)\n",
    "print(lossw[..., 0])\n",
    "\n",
    "lossw[0,0,0] *= 2\n",
    "lossw[0,1,1] *= 2\n",
    "\n",
    "lossw.abs().sum()\n"
   ]
  },
  {
   "cell_type": "code",
   "execution_count": 83,
   "metadata": {},
   "outputs": [
    {
     "name": "stderr",
     "output_type": "stream",
     "text": [
      "0.00500: 100%|██████████| 1600/1600 [00:26<00:00, 59.88it/s]\n"
     ]
    },
    {
     "data": {
      "text/plain": [
       "0.0050043745875863925"
      ]
     },
     "execution_count": 83,
     "metadata": {},
     "output_type": "execute_result"
    }
   ],
   "source": [
    "from tqdm import tqdm\n",
    "\n",
    "\n",
    "softplus = torch.nn.functional.softplus\n",
    "\n",
    "opt = torch.optim.AdamW(\n",
    "    model.parameters(),\n",
    "    lr=1e-3,\n",
    "    betas=(0.9, 0.995),\n",
    "    weight_decay=1e-5,\n",
    ")\n",
    "model.train()\n",
    "\n",
    "chunk = 32768\n",
    "loss_avg = 0\n",
    "loss_w = 0\n",
    "\n",
    "for _ in (prog := tqdm(range(1600))):\n",
    "    opt.zero_grad()\n",
    "\n",
    "    o = np.random.randint(0, p.shape[-1] - chunk)\n",
    "    # o = np.random.randint(0, chunk)\n",
    "    # o = 0\n",
    "\n",
    "    y = model(p[..., o:o+chunk])[..., :-1]\n",
    "\n",
    "    ypos = softplus(y)\n",
    "    yneg = softplus(-y)\n",
    "    \n",
    "    o2 = o + chunk - y.shape[-1]\n",
    "    loss = ( ypos * lossw[:, :, 1, o2:o+chunk]\n",
    "           + yneg * lossw[:, :, 0, o2:o+chunk] )\n",
    "\n",
    "    # loss = -y * lossw[..., -y.shape[-1]:]\n",
    "    # loss = loss.sum() / lossw.abs().sum()\n",
    "    loss = -loss.sum() / lossw[..., o2:o+chunk].abs().sum()\n",
    "\n",
    "    loss_w = min(loss_w + 1, 100)\n",
    "    loss_avg += (loss.item() - loss_avg) / loss_w\n",
    "    \n",
    "    prog.set_description(f'{loss_avg:.5f}')\n",
    "    loss.backward()\n",
    "    opt.step()\n",
    "\n",
    "loss_avg"
   ]
  },
  {
   "cell_type": "code",
   "execution_count": null,
   "metadata": {},
   "outputs": [],
   "source": [
    "import plotly.express as px\n",
    "\n",
    "fee = 0.003\n",
    "p_test = btc_2024[:, :]\n",
    "p_sell = p_test[2, :].cpu().numpy() * (1 - fee)\n",
    "p_buy = p_test[1, :].cpu().numpy() * (1 + fee)\n",
    "\n",
    "model.eval()\n",
    "with torch.no_grad():\n",
    "    y = model(p_test)[..., :-1]\n",
    "    \n",
    "    y = y.sigmoid().cpu()\n",
    "\n",
    "print(y.shape)\n",
    "print(y.min(dim=-1).values)\n",
    "print(y.max(dim=-1).values)\n",
    "\n",
    "# px.line({'buy':y[0], 'sell':y[1]})\n"
   ]
  },
  {
   "cell_type": "code",
   "execution_count": null,
   "metadata": {},
   "outputs": [
    {
     "data": {
      "text/plain": [
       "(30489.8046875, 82)"
      ]
     },
     "execution_count": 93,
     "metadata": {},
     "output_type": "execute_result"
    }
   ],
   "source": [
    "@numba.jit\n",
    "def sim(y, p_buy, p_sell):\n",
    "    stock = 0\n",
    "    cash = 0\n",
    "    conf = 0.9\n",
    "    trades = 0\n",
    "    for i in range(y.shape[-1]):\n",
    "        sell = (1 - y[1, i].item()) > conf\n",
    "        buy = y[0, i].item() > conf\n",
    "\n",
    "        if i == y.shape[-1] - 1:\n",
    "            sell = 1\n",
    "            buy = 0\n",
    "\n",
    "        if stock==1 and sell:\n",
    "            stock = 0\n",
    "            cash += p_sell[i+1]\n",
    "            trades += 1\n",
    "        elif stock==0 and buy:\n",
    "            stock = 1\n",
    "            cash -= p_buy[i-1]\n",
    "            trades += 1\n",
    "\n",
    "    return cash, trades\n",
    "\n",
    "sim(y.numpy(), p_buy[-y.shape[-1]:], p_sell[-y.shape[-1]:])"
   ]
  },
  {
   "cell_type": "code",
   "execution_count": null,
   "metadata": {},
   "outputs": [],
   "source": []
  }
 ],
 "metadata": {
  "kernelspec": {
   "display_name": ".venv",
   "language": "python",
   "name": "python3"
  },
  "language_info": {
   "codemirror_mode": {
    "name": "ipython",
    "version": 3
   },
   "file_extension": ".py",
   "mimetype": "text/x-python",
   "name": "python",
   "nbconvert_exporter": "python",
   "pygments_lexer": "ipython3",
   "version": "3.10.12"
  }
 },
 "nbformat": 4,
 "nbformat_minor": 2
}
