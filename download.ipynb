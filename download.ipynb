{
 "cells": [
  {
   "cell_type": "code",
   "execution_count": 1,
   "metadata": {},
   "outputs": [],
   "source": [
    "from alpaca.data.requests import CryptoBarsRequest\n",
    "from alpaca.data.timeframe import TimeFrame\n",
    "from alpaca.data.historical import CryptoHistoricalDataClient\n",
    "\n",
    "# No keys required for crypto data\n",
    "client = CryptoHistoricalDataClient()"
   ]
  },
  {
   "cell_type": "code",
   "execution_count": 20,
   "metadata": {},
   "outputs": [
    {
     "data": {
      "text/plain": [
       "rec.array([(42274.085 , 42295.719 , 42264.413 , 42295.719 , 0.,     0.     ),\n",
       "           (42309.3445, 42315.1075, 42309.3445, 42315.1075, 0.,     0.     ),\n",
       "           (42316.85  , 42318.075 , 42316.85  , 42318.075 , 0.,     0.     ),\n",
       "           ...,\n",
       "           (92701.64  , 92701.64  , 92701.64  , 92701.64  , 0., 92701.64   ),\n",
       "           (92673.139 , 92689.4765, 92666.99  , 92689.4765, 0., 92678.23325),\n",
       "           (92628.9215, 92628.9215, 92628.9215, 92628.9215, 0., 92628.9215 )],\n",
       "          dtype=[('open', '<f8'), ('high', '<f8'), ('low', '<f8'), ('close', '<f8'), ('volume', '<f8'), ('vwap', '<f8')])"
      ]
     },
     "execution_count": 20,
     "metadata": {},
     "output_type": "execute_result"
    }
   ],
   "source": [
    "from datetime import datetime\n",
    "\n",
    "for year in [2023, 2024]:\n",
    "        \n",
    "    request_params = CryptoBarsRequest(\n",
    "        symbol_or_symbols=[\"BTC/USD\"],\n",
    "        timeframe=TimeFrame.Minute,\n",
    "        start=datetime(year, 1, 1),\n",
    "        end=datetime(year, 12, 31)\n",
    "    )\n",
    "\n",
    "    btc = client.get_crypto_bars(request_params)\n",
    "    btc = btc.df\n",
    "    btc.drop(['trade_count'], axis=1, inplace=True)\n",
    "    btc = btc.to_records(index=False)\n",
    "    btc.tofile(f'data/btc_{year}.npy')\n",
    "\n",
    "btc"
   ]
  }
 ],
 "metadata": {
  "kernelspec": {
   "display_name": ".venv",
   "language": "python",
   "name": "python3"
  },
  "language_info": {
   "codemirror_mode": {
    "name": "ipython",
    "version": 3
   },
   "file_extension": ".py",
   "mimetype": "text/x-python",
   "name": "python",
   "nbconvert_exporter": "python",
   "pygments_lexer": "ipython3",
   "version": "3.10.12"
  }
 },
 "nbformat": 4,
 "nbformat_minor": 2
}
